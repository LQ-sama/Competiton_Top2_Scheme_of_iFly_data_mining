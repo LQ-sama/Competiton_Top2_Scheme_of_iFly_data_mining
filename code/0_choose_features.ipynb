{
 "cells": [
  {
   "cell_type": "code",
   "execution_count": 1,
   "metadata": {},
   "outputs": [],
   "source": [
    "import pandas as pd\n",
    "import numpy as np\n",
    "from sklearn.ensemble import RandomForestClassifier\n",
    "from sklearn.feature_selection import SelectFromModel\n",
    "import xgboost as xgb\n",
    "import os"
   ]
  },
  {
   "cell_type": "code",
   "execution_count": 2,
   "metadata": {},
   "outputs": [],
   "source": [
    "\n",
    "train = pd.read_csv('../xfdata/train.csv')\n",
    "X = train.drop('target', axis=1)  # 特征矩阵\n",
    "y = train['target']  # 目标变量"
   ]
  },
  {
   "cell_type": "code",
   "execution_count": 3,
   "metadata": {},
   "outputs": [
    {
     "name": "stdout",
     "output_type": "stream",
     "text": [
      "[4.84706406e-06 2.26946241e-01 9.30822136e-03 1.47942129e-02\n",
      " 7.48278924e-03 4.25420886e-02 4.90902296e-02 4.56748562e-02\n",
      " 3.86653247e-02 1.17906061e-02 1.86060685e-03 1.29697176e-01\n",
      " 1.06379905e-01 6.12499449e-02 7.35154261e-02 1.91770367e-03\n",
      " 1.38150995e-03 5.66949170e-04 8.14351235e-04 2.75011336e-04\n",
      " 6.79549220e-04 1.89968092e-04 1.75482312e-04 7.30055727e-04\n",
      " 6.11413802e-04 1.90146269e-04 6.81972441e-04 5.39915950e-04\n",
      " 5.74275742e-04 5.04662245e-04 1.75616774e-04 3.96271044e-04\n",
      " 5.38136605e-04 6.28625696e-04 7.57090973e-04 1.03823105e-03\n",
      " 2.46879930e-03 2.87788007e-04 1.53124660e-02 3.58754419e-04\n",
      " 2.86332248e-02 1.27732014e-03 1.57132630e-03 4.85756975e-04\n",
      " 1.10471461e-03 9.18190909e-04 1.36901698e-03 8.27173469e-04\n",
      " 3.93292674e-02 3.02866158e-02 4.18779861e-02 1.52218376e-03]\n"
     ]
    }
   ],
   "source": [
    "# 创建随机森林分类器\n",
    "rf = RandomForestClassifier()\n",
    "# rf = xgb.XGBClassifier(max_depth=9,learning_rate=0.1, min_child_weight=1,subsample=1, #,gamma=0.039\n",
    "#          n_estimators=162,nthread=6,scale_pos_weight=0.17660901285038,seed=None)\n",
    "# 使用随机森林分类器拟合数据\n",
    "rf.fit(X, y)\n",
    "\n",
    "# 获取特征重要性\n",
    "importance = rf.feature_importances_\n",
    "print(importance)\n",
    "# 创建选择器，并基于特征重要性进行特征选择\n",
    "selector = SelectFromModel(rf, threshold=0.05)  # 设置重要性阈值\n",
    "selector.fit(X, y)\n",
    "\n",
    "# 获取选择后的特征矩阵\n",
    "X_selected = selector.transform(X)\n",
    "\n",
    "# 获取选择后的特征列名\n",
    "selected_features = X.columns[selector.get_support()]"
   ]
  },
  {
   "cell_type": "code",
   "execution_count": 4,
   "metadata": {},
   "outputs": [
    {
     "name": "stdout",
     "output_type": "stream",
     "text": [
      "选择后的特征矩阵:\n",
      "[[ 2.37488400e+00  5.97916600e+02  8.43905900e+01 ...  3.11169500e+01\n",
      "   7.71433800e-01  1.62615700e+02]\n",
      " [-9.99000000e+02  2.01426291e+02  9.99998779e+01 ...  0.00000000e+00\n",
      "   0.00000000e+00  3.35648166e+01]\n",
      " [ 2.46070464e+00  6.37352123e+02  8.10328853e+01 ...  3.13318403e+01\n",
      "   7.59069943e+00  8.99636555e+01]\n",
      " ...\n",
      " [ 1.11169000e+00  1.47473938e+02  4.46521100e+01 ...  5.73605300e+00\n",
      "   1.40819800e+00  5.55555600e+01]\n",
      " [ 2.50769700e+00  6.37615700e+02  6.81689100e+01 ...  2.91548500e+01\n",
      "   9.33410900e-01  6.10532400e+01]\n",
      " [ 2.39160900e+00  6.21180500e+02  7.86386600e+01 ...  2.56006700e+01\n",
      "   1.46587700e+01  1.18923600e+02]]\n",
      "选择后的特征列名:\n",
      "Index(['x0', 'x4', 'x5', 'x10', 'x12', 'x13', 'x47'], dtype='object')\n"
     ]
    }
   ],
   "source": [
    "# 打印选择后的特征矩阵和特征列名\n",
    "print(\"选择后的特征矩阵:\")\n",
    "print(X_selected)\n",
    "print(\"选择后的特征列名:\")\n",
    "print(selected_features)"
   ]
  },
  {
   "cell_type": "code",
   "execution_count": 5,
   "metadata": {},
   "outputs": [
    {
     "name": "stdout",
     "output_type": "stream",
     "text": [
      "(200000, 7)\n"
     ]
    }
   ],
   "source": [
    "print(X_selected.shape)"
   ]
  }
 ],
 "metadata": {
  "kernelspec": {
   "display_name": "test001",
   "language": "python",
   "name": "python3"
  },
  "language_info": {
   "codemirror_mode": {
    "name": "ipython",
    "version": 3
   },
   "file_extension": ".py",
   "mimetype": "text/x-python",
   "name": "python",
   "nbconvert_exporter": "python",
   "pygments_lexer": "ipython3",
   "version": "3.7.1"
  }
 },
 "nbformat": 4,
 "nbformat_minor": 2
}
