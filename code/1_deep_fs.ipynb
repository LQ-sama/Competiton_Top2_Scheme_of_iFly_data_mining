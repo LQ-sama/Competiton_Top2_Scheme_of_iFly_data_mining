{
 "cells": [
  {
   "cell_type": "code",
   "execution_count": 10,
   "metadata": {},
   "outputs": [],
   "source": [
    "import pandas as pd\n",
    "import numpy as np"
   ]
  },
  {
   "cell_type": "code",
   "execution_count": 11,
   "metadata": {},
   "outputs": [],
   "source": [
    "train = pd.read_csv('../xfdata/train.csv')\n",
    "train = train.iloc[:,0:52]\n",
    "\n",
    "selected_cols = ['id','x0', 'x4', 'x7','x10','x11','x12','x13']  # 选择感兴趣的列\n",
    "\n",
    "# 筛选出感兴趣的列形成新的特征矩阵\n",
    "train = train[selected_cols]"
   ]
  },
  {
   "cell_type": "code",
   "execution_count": 12,
   "metadata": {},
   "outputs": [
    {
     "name": "stderr",
     "output_type": "stream",
     "text": [
      "c:\\Users\\14251\\anaconda3\\envs\\test001\\lib\\site-packages\\featuretools\\entityset\\entityset.py:1851: UserWarning: Using first column as index. To change this, specify the index parameter\n",
      "  \"Using first column as index. \"\n"
     ]
    },
    {
     "name": "stdout",
     "output_type": "stream",
     "text": [
      "Built 91 features\n",
      "Elapsed: 00:01 | Progress: 100%|██████████\n"
     ]
    }
   ],
   "source": [
    "import featuretools as ft\n",
    "es = ft.EntitySet(id='single_dataframe')  # 用id标识实体集\n",
    "\n",
    "es.add_dataframe(  dataframe_name = 'train_data',  \n",
    "             dataframe=train\n",
    "             )\n",
    "\n",
    "trans_primitives=['add_numeric', ft.primitives.SubtractNumeric(commutative=False), 'multiply_numeric']\n",
    "# ft.list_primitives()\n",
    "\n",
    "feature_matrix, feature_names = ft.dfs(entityset=es, \n",
    "    target_dataframe_name = 'train_data',\n",
    "     max_depth=1, \n",
    "     verbose=1,\n",
    "     trans_primitives=trans_primitives\n",
    ")\n"
   ]
  },
  {
   "cell_type": "code",
   "execution_count": 13,
   "metadata": {},
   "outputs": [
    {
     "name": "stdout",
     "output_type": "stream",
     "text": [
      "91\n"
     ]
    }
   ],
   "source": [
    "print(len(feature_names))\n",
    "feature_matrix.to_csv('../user_data/train_feature.csv',index= False)\n"
   ]
  },
  {
   "cell_type": "code",
   "execution_count": 14,
   "metadata": {},
   "outputs": [],
   "source": [
    "test = pd.read_csv('../xfdata/test.csv')\n",
    "test = test[selected_cols]"
   ]
  },
  {
   "cell_type": "code",
   "execution_count": 15,
   "metadata": {},
   "outputs": [
    {
     "name": "stdout",
     "output_type": "stream",
     "text": [
      "Built 91 features\n",
      "Elapsed: 00:00 | Progress: 100%|██████████\n"
     ]
    }
   ],
   "source": [
    "es_test = ft.EntitySet(id='test')  # 用id标识实体集\n",
    "# 增加一个数据框，命名为iris\n",
    "es_test.add_dataframe(  dataframe_name = 'test_data',  \n",
    "             dataframe=test\n",
    "             )\n",
    "\n",
    "trans_primitives=['add_numeric', ft.primitives.SubtractNumeric(commutative=False), 'multiply_numeric']\n",
    "\n",
    "# ft.list_primitives()\n",
    "\n",
    "feature_matrix_test, feature_names = ft.dfs(entityset=es_test, \n",
    "    target_dataframe_name = 'test_data',\n",
    "     max_depth=1, \n",
    "     verbose=1,\n",
    "     trans_primitives=trans_primitives\n",
    ")"
   ]
  },
  {
   "cell_type": "code",
   "execution_count": 16,
   "metadata": {},
   "outputs": [],
   "source": [
    "feature_matrix_test.to_csv('../user_data/test_feature.csv',index = False)"
   ]
  },
  {
   "cell_type": "code",
   "execution_count": 17,
   "metadata": {},
   "outputs": [
    {
     "name": "stdout",
     "output_type": "stream",
     "text": [
      "(200000, 91)\n",
      "(100000, 91)\n"
     ]
    }
   ],
   "source": [
    "print(feature_matrix.shape)\n",
    "print(feature_matrix_test.shape)"
   ]
  }
 ],
 "metadata": {
  "kernelspec": {
   "display_name": "test001",
   "language": "python",
   "name": "python3"
  },
  "language_info": {
   "codemirror_mode": {
    "name": "ipython",
    "version": 3
   },
   "file_extension": ".py",
   "mimetype": "text/x-python",
   "name": "python",
   "nbconvert_exporter": "python",
   "pygments_lexer": "ipython3",
   "version": "3.7.1"
  }
 },
 "nbformat": 4,
 "nbformat_minor": 2
}
