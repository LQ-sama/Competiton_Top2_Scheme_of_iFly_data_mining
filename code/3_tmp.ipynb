{
 "cells": [
  {
   "cell_type": "code",
   "execution_count": 7,
   "id": "ee1a6350",
   "metadata": {},
   "outputs": [],
   "source": [
    "import pandas as pd\n",
    "import numpy as np"
   ]
  },
  {
   "cell_type": "code",
   "execution_count": 8,
   "id": "0bde0d53",
   "metadata": {},
   "outputs": [],
   "source": [
    "\n",
    "selected_cols = ['x0', 'x4', 'x7','x10','x11','x12','x13'] \n"
   ]
  },
  {
   "cell_type": "code",
   "execution_count": 9,
   "id": "8b35283b",
   "metadata": {},
   "outputs": [],
   "source": [
    "test1 = pd.read_csv('../xfdata/test.csv')\n",
    "test2 = pd.read_csv('../user_data/test_feature.csv')\n",
    "test2 = test2.drop(selected_cols, axis=1)\n",
    "\n"
   ]
  },
  {
   "cell_type": "code",
   "execution_count": 10,
   "id": "5856ecfe",
   "metadata": {},
   "outputs": [
    {
     "name": "stdout",
     "output_type": "stream",
     "text": [
      "(100000, 52)\n",
      "(100000, 84)\n"
     ]
    }
   ],
   "source": [
    "print(test1.shape)\n",
    "print(test2.shape)\n",
    "new1 = pd.concat([test1.iloc[:,0:52], test2],axis=1,ignore_index=True)\n",
    "#new1 = pd.concat([new1, test1.iloc[:,52]],axis=1,ignore_index=True)"
   ]
  },
  {
   "cell_type": "code",
   "execution_count": 11,
   "id": "21b6723d",
   "metadata": {},
   "outputs": [
    {
     "name": "stdout",
     "output_type": "stream",
     "text": [
      "(100000, 136)\n"
     ]
    }
   ],
   "source": [
    "print(new1.shape)\n",
    "new1.to_csv('../user_data/big_test.csv',index = False)"
   ]
  },
  {
   "cell_type": "code",
   "execution_count": 12,
   "id": "214c6fc9",
   "metadata": {},
   "outputs": [
    {
     "name": "stdout",
     "output_type": "stream",
     "text": [
      "(200000, 137)\n"
     ]
    }
   ],
   "source": [
    "train1 = pd.read_csv('../xfdata/train.csv')\n",
    "train2 = pd.read_csv('../user_data/train_feature.csv')\n",
    "train2 = train2.drop(selected_cols, axis=1)\n",
    "\n",
    "new2 = pd.concat([train1.iloc[:,0:52], train2],axis=1,ignore_index=True)\n",
    "new2 = pd.concat([new2, train1.iloc[:,52]],axis=1,ignore_index=True)\n",
    "print(new2.shape)\n",
    "new2.to_csv('../user_data/big_train.csv',index = False)"
   ]
  },
  {
   "cell_type": "code",
   "execution_count": null,
   "id": "8f6b5bc3",
   "metadata": {},
   "outputs": [],
   "source": []
  }
 ],
 "metadata": {
  "kernelspec": {
   "display_name": "Python 3 (ipykernel)",
   "language": "python",
   "name": "python3"
  },
  "language_info": {
   "codemirror_mode": {
    "name": "ipython",
    "version": 3
   },
   "file_extension": ".py",
   "mimetype": "text/x-python",
   "name": "python",
   "nbconvert_exporter": "python",
   "pygments_lexer": "ipython3",
   "version": "3.7.1"
  }
 },
 "nbformat": 4,
 "nbformat_minor": 5
}
