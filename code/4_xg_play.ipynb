{
 "cells": [
  {
   "cell_type": "code",
   "execution_count": 1,
   "id": "87105c24",
   "metadata": {},
   "outputs": [],
   "source": [
    "import sklearn\n",
    "import numpy as np\n",
    "import pandas as pd\n",
    "from sklearn.ensemble import RandomForestClassifier\n",
    "from sklearn.model_selection import train_test_split\n",
    "from sklearn.metrics import f1_score\n",
    "from sklearn.ensemble import StackingClassifier\n",
    "from sklearn.ensemble import VotingClassifier\n",
    "from sklearn import svm\n",
    "import xgboost as xgb\n",
    "import random\n",
    "from sklearn.linear_model import LinearRegression, LogisticRegression\n",
    "from sklearn.feature_selection import SelectFromModel"
   ]
  },
  {
   "cell_type": "code",
   "execution_count": 2,
   "id": "310a09e9",
   "metadata": {},
   "outputs": [],
   "source": [
    "data=np.array(pd.read_csv('../user_data/big_train.csv').iloc[:,1:].drop('50',axis = 1))\n",
    "X=data[:,:134]\n",
    "y=data[:,134]\n",
    "\n",
    "\n",
    "\n",
    "X_train,X_test,y_train,y_test=train_test_split(X,y,test_size=0.00001) #划分训练集和测试集\n"
   ]
  },
  {
   "cell_type": "code",
   "execution_count": 3,
   "id": "c8561851",
   "metadata": {},
   "outputs": [],
   "source": [
    "#创建模型 nums:模型个数\n",
    "from concurrent.futures import thread\n",
    "from zmq import device\n",
    "\n",
    "\n",
    "def make_models(nums,max_depth_list,n_estimators_list,learning_rate_list):\n",
    "    models=[]\n",
    "    for i in range(nums):\n",
    "        max_depth=random.choice(max_depth_list)\n",
    "        n_estimators=random.choice(n_estimators_list)\n",
    "        learning_rate=random.choice(learning_rate_list)\n",
    "        models.append((str(i),xgb.XGBClassifier(max_depth=max_depth,learning_rate=learning_rate,subsample=1, min_child_weight = 1, gamma=0.2,reg_alpha=0.09999999999999999,\n",
    "         n_estimators=n_estimators,nthread = 4 ,scale_pos_weight=0.17660901285038)))\n",
    "    return models "
   ]
  },
  {
   "cell_type": "code",
   "execution_count": 4,
   "id": "5e593f62",
   "metadata": {},
   "outputs": [],
   "source": [
    "\n",
    "\n",
    "models=make_models(512,list(range(3,7,1)),list(range(100,175,2)),[0.1,0.05,0.01,0.19,0.15,0.02,0.03,0.04,0.12,0.17])\n",
    "meta_model = LogisticRegression()"
   ]
  },
  {
   "cell_type": "code",
   "execution_count": 5,
   "id": "72ea5b08",
   "metadata": {},
   "outputs": [],
   "source": [
    "stacking_model = StackingClassifier(estimators=models,cv=5, n_jobs=4)\n",
    "#stacking_model = VotingClassifier(estimators=models)"
   ]
  },
  {
   "cell_type": "code",
   "execution_count": 6,
   "id": "cd9b1bbe",
   "metadata": {},
   "outputs": [],
   "source": [
    "stacking_model.fit(X_train, y_train)"
   ]
  },
  {
   "cell_type": "code",
   "execution_count": null,
   "id": "3ef201d5",
   "metadata": {},
   "outputs": [
    {
     "name": "stdout",
     "output_type": "stream",
     "text": [
      "1.0\n"
     ]
    }
   ],
   "source": [
    "score_pre = f1_score(y_test,stacking_model.predict(X_test),average='macro') #计算F1-score\n",
    "print(score_pre) "
   ]
  },
  {
   "cell_type": "code",
   "execution_count": null,
   "id": "4366102d",
   "metadata": {},
   "outputs": [],
   "source": [
    "XX=np.array(pd.read_csv('../user_data/big_test.csv').iloc[:,1:].drop('50',axis = 1))\n",
    "\n",
    "a=stacking_model.predict(XX) #预测\n",
    "#保存预测的结果\n",
    "pd.DataFrame({'id':pd.read_csv('../user_data/big_test.csv').iloc[:,0],\n",
    "              'target':a}).to_csv('../prediction_result/result.csv',index=False)"
   ]
  },
  {
   "cell_type": "code",
   "execution_count": null,
   "id": "8cc2cc8f",
   "metadata": {},
   "outputs": [],
   "source": []
  },
  {
   "cell_type": "code",
   "execution_count": null,
   "id": "1f2594b9",
   "metadata": {},
   "outputs": [],
   "source": []
  }
 ],
 "metadata": {
  "kernelspec": {
   "display_name": "Python 3 (ipykernel)",
   "language": "python",
   "name": "python3"
  },
  "language_info": {
   "codemirror_mode": {
    "name": "ipython",
    "version": 3
   },
   "file_extension": ".py",
   "mimetype": "text/x-python",
   "name": "python",
   "nbconvert_exporter": "python",
   "pygments_lexer": "ipython3",
   "version": "3.7.1"
  }
 },
 "nbformat": 4,
 "nbformat_minor": 5
}
