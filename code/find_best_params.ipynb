{
 "cells": [
  {
   "cell_type": "code",
   "execution_count": 1,
   "metadata": {},
   "outputs": [
    {
     "name": "stdout",
     "output_type": "stream",
     "text": [
      "[1. 0. 1. 0.]\n"
     ]
    }
   ],
   "source": [
    "import sklearn\n",
    "import numpy as np\n",
    "import pandas as pd\n",
    "from sklearn.ensemble import RandomForestClassifier\n",
    "from sklearn.model_selection import train_test_split, KFold, GridSearchCV\n",
    "from sklearn.metrics import f1_score\n",
    "from sklearn.ensemble import StackingClassifier\n",
    "from sklearn.ensemble import VotingClassifier\n",
    "from sklearn import svm\n",
    "import xgboost as xgb\n",
    "import random\n",
    "from sklearn.linear_model import LinearRegression, LogisticRegression\n",
    "\n",
    "data=np.array(pd.read_csv('../user_data/big_train.csv').iloc[:,1:].drop('50',axis = 1))\n",
    "X=data[:,:134]\n",
    "y=data[:,134]\n",
    "\n",
    "print(y[1:5])\n",
    "\n",
    "X_train,X_test,y_train,y_test=train_test_split(X,y,test_size=0.0001) #划分训练集和测试集\n",
    "\n",
    "xgb1 = xgb.XGBClassifier(max_depth=4,learning_rate=0.1,gamma=0.2, min_child_weight = 1,reg_alpha=0.09999999999999999, # noqa: E501\n",
    "         n_estimators=150 , nthread=4,scale_pos_weight=0.17660901285038)  # noqa: E501\n",
    "\n",
    "\n",
    "\n",
    "\n",
    "\n",
    "###按照 max_depth, min_child_weight, n_estimators, gamma, reg_alpha的顺序挨个进行参数寻找\n",
    "#####scale_pos_weight 的值是拿训练集中，1的个数除以0的个数得到的\n",
    "\n",
    "####在xg_play.ipynb文件中，各个超参数都是已经调好的了，所以这个寻找参数的文件只是用来展示，我们是怎么找到的各个超参数\n",
    "param_test1 = {\n",
    " 'n_estimators': [i for i in range(100,102,1)],\n",
    " #'min_child_weight' : [j for j in range(1,6,1)]\n",
    "\n",
    "\n",
    "}\n",
    "\n",
    "gsearch1 = GridSearchCV(estimator= xgb1,param_grid = param_test1,scoring='roc_auc',n_jobs=4, cv=5)\n",
    "gsearch1.fit(X,y)\n",
    "print( gsearch1.best_params_,     gsearch1.best_score_)"
   ]
  }
 ],
 "metadata": {
  "kernelspec": {
   "display_name": "test001",
   "language": "python",
   "name": "python3"
  },
  "language_info": {
   "codemirror_mode": {
    "name": "ipython",
    "version": 3
   },
   "file_extension": ".py",
   "mimetype": "text/x-python",
   "name": "python",
   "nbconvert_exporter": "python",
   "pygments_lexer": "ipython3",
   "version": "3.7.1"
  }
 },
 "nbformat": 4,
 "nbformat_minor": 2
}
